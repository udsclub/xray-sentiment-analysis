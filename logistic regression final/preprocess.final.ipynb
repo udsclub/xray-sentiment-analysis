{
 "cells": [
  {
   "cell_type": "code",
   "execution_count": 1,
   "metadata": {
    "collapsed": true
   },
   "outputs": [],
   "source": [
    "import pandas as pd\n",
    "from sklearn.utils import shuffle"
   ]
  },
  {
   "cell_type": "code",
   "execution_count": 2,
   "metadata": {
    "collapsed": false
   },
   "outputs": [],
   "source": [
    "data_rt = pd.read_csv(\"C:/Users/Desktop/UDSC/Sentiment analysis/Data/reviews_rt_all.csv\", sep=\"|\")\n",
    "data_imdb = pd.read_csv(\"C:/Users/Desktop/UDSC/Sentiment analysis/Data/imdb_small.csv\", sep=\"|\")\n",
    "\n",
    "data_df = pd.concat([data_rt, data_imdb], ignore_index=True, copy=False)\n",
    "data_df = shuffle(data_df)"
   ]
  },
  {
   "cell_type": "code",
   "execution_count": 3,
   "metadata": {
    "collapsed": true
   },
   "outputs": [],
   "source": [
    "import re, nltk\n",
    "from nltk.stem import SnowballStemmer"
   ]
  },
  {
   "cell_type": "code",
   "execution_count": 4,
   "metadata": {
    "collapsed": false
   },
   "outputs": [],
   "source": [
    "def tokenize(text):\n",
    "    text = re.sub(\"[^a-zA-Z]\", \" \", text)\n",
    "    word_list = nltk.word_tokenize(text)\n",
    "    stemmer = SnowballStemmer(\"english\")\n",
    "    stems = [stemmer.stem(word) for word in word_list]\n",
    "    return stems"
   ]
  },
  {
   "cell_type": "code",
   "execution_count": 5,
   "metadata": {
    "collapsed": false
   },
   "outputs": [],
   "source": [
    "from sklearn.feature_extraction.text import TfidfVectorizer\n",
    "\n",
    "vectorizer = TfidfVectorizer(tokenizer=tokenize, ngram_range=(1, 3),\n",
    "                              analyzer = 'word', binary = True, max_df = 0.75)\n",
    "\n",
    "data_features = vectorizer.fit_transform(data_df['text'])"
   ]
  },
  {
   "cell_type": "code",
   "execution_count": 6,
   "metadata": {
    "collapsed": false
   },
   "outputs": [],
   "source": [
    "from sklearn.model_selection import train_test_split\n",
    "\n",
    "X_train_rt, X_test_rt, y_train_rt, y_test_rt  = train_test_split(\n",
    "        data_rt.text, \n",
    "        data_rt.label,\n",
    "        test_size=0.2, \n",
    "        random_state=42)"
   ]
  },
  {
   "cell_type": "code",
   "execution_count": 7,
   "metadata": {
    "collapsed": false
   },
   "outputs": [],
   "source": [
    "X_train_imdb, X_test_imdb, y_train_imdb, y_test_imdb  = train_test_split(\n",
    "        data_imdb.text, \n",
    "        data_imdb.label,\n",
    "        test_size=0.2, \n",
    "        random_state=42)"
   ]
  },
  {
   "cell_type": "code",
   "execution_count": 8,
   "metadata": {
    "collapsed": true
   },
   "outputs": [],
   "source": [
    "X_train = pd.concat([X_train_rt, X_train_imdb])\n",
    "X_test = pd.concat([X_test_rt, X_test_imdb])\n",
    "y_train = pd.concat([y_train_rt, y_train_imdb])\n",
    "y_test = pd.concat([y_test_rt, y_test_imdb])"
   ]
  },
  {
   "cell_type": "code",
   "execution_count": 9,
   "metadata": {
    "collapsed": false
   },
   "outputs": [],
   "source": [
    "from sklearn.linear_model import LogisticRegression\n",
    "from sklearn.pipeline import Pipeline\n",
    "\n",
    "pipeline = Pipeline([('vectorizer', TfidfVectorizer(tokenizer=tokenize, ngram_range=(1, 3),\n",
    "                              analyzer = 'word', binary = True, max_df = 0.75)), \n",
    "                     ('classifier', LogisticRegression(C = 100))])\n",
    "model = pipeline.fit(X=X_train, y=y_train)"
   ]
  },
  {
   "cell_type": "code",
   "execution_count": 10,
   "metadata": {
    "collapsed": false
   },
   "outputs": [
    {
     "name": "stdout",
     "output_type": "stream",
     "text": [
      "0.848895878383\n",
      "             precision    recall  f1-score   support\n",
      "\n",
      "          0       0.84      0.79      0.81     12576\n",
      "          1       0.86      0.89      0.87     17946\n",
      "\n",
      "avg / total       0.85      0.85      0.85     30522\n",
      "\n"
     ]
    }
   ],
   "source": [
    "from sklearn.metrics import accuracy_score\n",
    "from sklearn.metrics import classification_report\n",
    "\n",
    "y_pred = model.predict(X_test)\n",
    "\n",
    "print (accuracy_score(y_test, y_pred))\n",
    "print(classification_report(y_test, y_pred))"
   ]
  },
  {
   "cell_type": "code",
   "execution_count": 12,
   "metadata": {
    "collapsed": false
   },
   "outputs": [
    {
     "name": "stdout",
     "output_type": "stream",
     "text": [
      "0.815953610759\n",
      "             precision    recall  f1-score   support\n",
      "\n",
      "          0       0.77      0.70      0.74      7521\n",
      "          1       0.84      0.88      0.86     13001\n",
      "\n",
      "avg / total       0.81      0.82      0.81     20522\n",
      "\n"
     ]
    }
   ],
   "source": [
    "y_pred = model.predict(X_test_rt)\n",
    "\n",
    "print (accuracy_score(y_test_rt, y_pred))\n",
    "print(classification_report(y_test_rt, y_pred))"
   ]
  },
  {
   "cell_type": "code",
   "execution_count": 13,
   "metadata": {
    "collapsed": false
   },
   "outputs": [
    {
     "name": "stdout",
     "output_type": "stream",
     "text": [
      "0.9165\n",
      "             precision    recall  f1-score   support\n",
      "\n",
      "          0       0.92      0.92      0.92      5055\n",
      "          1       0.91      0.92      0.92      4945\n",
      "\n",
      "avg / total       0.92      0.92      0.92     10000\n",
      "\n"
     ]
    }
   ],
   "source": [
    "y_pred = model.predict(X_test_imdb)\n",
    "\n",
    "print (accuracy_score(y_test_imdb, y_pred))\n",
    "print(classification_report(y_test_imdb, y_pred))"
   ]
  }
 ],
 "metadata": {
  "kernelspec": {
   "display_name": "Python 3",
   "language": "python",
   "name": "python3"
  },
  "language_info": {
   "codemirror_mode": {
    "name": "ipython",
    "version": 3
   },
   "file_extension": ".py",
   "mimetype": "text/x-python",
   "name": "python",
   "nbconvert_exporter": "python",
   "pygments_lexer": "ipython3",
   "version": "3.6.0"
  }
 },
 "nbformat": 4,
 "nbformat_minor": 2
}
