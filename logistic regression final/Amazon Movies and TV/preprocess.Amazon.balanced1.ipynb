{
 "cells": [
  {
   "cell_type": "code",
   "execution_count": 1,
   "metadata": {
    "collapsed": false
   },
   "outputs": [],
   "source": [
    "import pandas as pd\n",
    "from sklearn.utils import shuffle\n",
    "\n",
    "train_all = pd.read_csv(\"C:/Users/Desktop/UDSC/Sentiment analysis/Data/Amazon/train.csv\", sep=\"|\")\n",
    "test_Amazon = pd.read_csv(\"C:/Users/Desktop/UDSC/Sentiment analysis/Data/Amazon/test.csv\", sep=\"|\")\n",
    "test_MR = pd.read_csv(\"C:/Users/Desktop/UDSC/Sentiment analysis/Data/Amazon/movie reviews.csv\", sep=\"|\")\n",
    "\n",
    "train_all = train_all.rename(columns={'overall' : 'label', 'reviewText' : 'text'})\n",
    "test_Amazon = test_Amazon.rename(columns={'overall' : 'label', 'reviewText' : 'text'})\n",
    "\n",
    "test_Amazon = test_Amazon.astype(str)\n",
    "test_MR = test_MR.astype(str)"
   ]
  },
  {
   "cell_type": "code",
   "execution_count": 2,
   "metadata": {
    "collapsed": true
   },
   "outputs": [],
   "source": [
    "train_all_pos = train_all[train_all.label == 1]\n",
    "train = pd.concat([train_all_pos.sample (n=185412, random_state=42), train_all[train_all.label == 0]])\n",
    "train = shuffle(train,random_state=42)"
   ]
  },
  {
   "cell_type": "code",
   "execution_count": 3,
   "metadata": {
    "collapsed": false
   },
   "outputs": [
    {
     "name": "stdout",
     "output_type": "stream",
     "text": [
      "(370822, 2)\n"
     ]
    },
    {
     "data": {
      "text/html": [
       "<div>\n",
       "<table border=\"1\" class=\"dataframe\">\n",
       "  <thead>\n",
       "    <tr style=\"text-align: right;\">\n",
       "      <th></th>\n",
       "      <th>text</th>\n",
       "    </tr>\n",
       "    <tr>\n",
       "      <th>label</th>\n",
       "      <th></th>\n",
       "    </tr>\n",
       "  </thead>\n",
       "  <tbody>\n",
       "    <tr>\n",
       "      <th>0</th>\n",
       "      <td>185402</td>\n",
       "    </tr>\n",
       "    <tr>\n",
       "      <th>1</th>\n",
       "      <td>185402</td>\n",
       "    </tr>\n",
       "  </tbody>\n",
       "</table>\n",
       "</div>"
      ],
      "text/plain": [
       "         text\n",
       "label        \n",
       "0      185402\n",
       "1      185402"
      ]
     },
     "execution_count": 3,
     "metadata": {},
     "output_type": "execute_result"
    }
   ],
   "source": [
    "print(train.shape)\n",
    "train.groupby('label').count()"
   ]
  },
  {
   "cell_type": "code",
   "execution_count": 4,
   "metadata": {
    "collapsed": true
   },
   "outputs": [],
   "source": [
    "train = train.astype(str)"
   ]
  },
  {
   "cell_type": "code",
   "execution_count": 5,
   "metadata": {
    "collapsed": true
   },
   "outputs": [],
   "source": [
    "import re, nltk\n",
    "from nltk.stem import SnowballStemmer\n",
    "def tokenize(text):\n",
    "    text = re.sub(\"[^a-zA-Z]\", \" \", text)\n",
    "    word_list = nltk.word_tokenize(text)\n",
    "    stemmer = SnowballStemmer(\"english\")\n",
    "    stems = [stemmer.stem(word) for word in word_list]\n",
    "    return stems"
   ]
  },
  {
   "cell_type": "code",
   "execution_count": 8,
   "metadata": {
    "collapsed": false
   },
   "outputs": [
    {
     "name": "stdout",
     "output_type": "stream",
     "text": [
      "Validation Accuracy Amazon : 0.896772105817\n",
      "             precision    recall  f1-score   support\n",
      "\n",
      "          0       0.90      0.89      0.90     18600\n",
      "          1       0.89      0.90      0.90     18483\n",
      "\n",
      "avg / total       0.90      0.90      0.90     37083\n",
      "\n",
      "Test Accuracy MR : 0.748592870544\n",
      "             precision    recall  f1-score   support\n",
      "\n",
      "          0       0.75      0.74      0.75      5330\n",
      "          1       0.74      0.76      0.75      5330\n",
      "\n",
      "avg / total       0.75      0.75      0.75     10660\n",
      "\n",
      "Test Accuracy Amazon : 0.900190463681\n",
      "             precision    recall  f1-score   support\n",
      "\n",
      "          0       0.59      0.89      0.71     21219\n",
      "          1       0.98      0.90      0.94    131041\n",
      "\n",
      "avg / total       0.93      0.90      0.91    152260\n",
      "\n",
      "Wall time: 58min 27s\n"
     ]
    }
   ],
   "source": [
    "%%time\n",
    "\n",
    "from sklearn.feature_extraction.text import HashingVectorizer\n",
    "\n",
    "vectorizer = HashingVectorizer(tokenizer=tokenize, ngram_range=(1, 3),\n",
    "                              analyzer = 'word', binary = True, stop_words = 'english')\n",
    "\n",
    "data_features = vectorizer.fit_transform(train['text'])\n",
    "\n",
    "from sklearn.model_selection import train_test_split\n",
    "\n",
    "X_train, X_test, y_train, y_test  = train_test_split(\n",
    "        train.text, \n",
    "        train.label,\n",
    "        test_size=0.1, \n",
    "        random_state=42)\n",
    "\n",
    "\n",
    "from sklearn.feature_extraction.text import TfidfTransformer\n",
    "from sklearn.linear_model import LogisticRegression\n",
    "from sklearn.pipeline import Pipeline\n",
    "\n",
    "pipeline = Pipeline([('vectorizer', HashingVectorizer(tokenizer=tokenize, ngram_range=(1, 3),\n",
    "                              analyzer = 'word', binary = True, stop_words = 'english')), \n",
    "                     ('classifier', LogisticRegression(C = 100))])\n",
    "\n",
    "model = pipeline.fit(X=X_train, y=y_train)\n",
    "\n",
    "from sklearn.metrics import accuracy_score\n",
    "from sklearn.metrics import classification_report\n",
    "\n",
    "y_pred = model.predict(X_test)\n",
    "\n",
    "print (\"Validation Accuracy Amazon :\", accuracy_score(y_test, y_pred))\n",
    "print(classification_report(y_test, y_pred))\n",
    "\n",
    "X_test_MR, y_test_MR = (test_MR.text, test_MR.label)\n",
    "y_pred_MR = model.predict(X_test_MR)\n",
    "\n",
    "print (\"Test Accuracy MR :\", accuracy_score(y_test_MR, y_pred_MR))\n",
    "print(classification_report(y_test_MR, y_pred_MR))\n",
    "\n",
    "X_test_amazon, y_test_amazon = (test_Amazon.text, test_Amazon.label)\n",
    "y_pred_amazon = model.predict(X_test_amazon)\n",
    "\n",
    "print (\"Test Accuracy Amazon :\", accuracy_score(y_test_amazon, y_pred_amazon))\n",
    "print(classification_report(y_test_amazon, y_pred_amazon))"
   ]
  },
  {
   "cell_type": "code",
   "execution_count": null,
   "metadata": {
    "collapsed": true
   },
   "outputs": [],
   "source": []
  }
 ],
 "metadata": {
  "kernelspec": {
   "display_name": "Python 3",
   "language": "python",
   "name": "python3"
  },
  "language_info": {
   "codemirror_mode": {
    "name": "ipython",
    "version": 3
   },
   "file_extension": ".py",
   "mimetype": "text/x-python",
   "name": "python",
   "nbconvert_exporter": "python",
   "pygments_lexer": "ipython3",
   "version": "3.6.0"
  }
 },
 "nbformat": 4,
 "nbformat_minor": 2
}
