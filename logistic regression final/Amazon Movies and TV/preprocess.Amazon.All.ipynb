{
 "cells": [
  {
   "cell_type": "code",
   "execution_count": 3,
   "metadata": {
    "collapsed": false
   },
   "outputs": [],
   "source": [
    "import pandas as pd\n",
    "from sklearn.utils import shuffle\n",
    "\n",
    "train = pd.read_csv(\"C:/Users/Valentina/Desktop/UDSC/Sentiment analysis/Data/Amazon/train.csv\", sep=\"|\")\n",
    "data_Amazon = pd.read_csv(\"C:/Users/Valentina/Desktop/UDSC/Sentiment analysis/Data/Amazon/test.csv\", sep=\"|\")\n",
    "data_MR = pd.read_csv(\"C:/Users/Valentina/Desktop/UDSC/Sentiment analysis/Data/Amazon/movie reviews.csv\", sep=\"|\")\n",
    "train = train.rename(columns={'overall' : 'label', 'reviewText' : 'text'})\n",
    "data_Amazon = data_Amazon.rename(columns={'overall' : 'label', 'reviewText' : 'text'})\n",
    "train = train.astype(str)\n",
    "data_Amazon = data_Amazon.astype(str)\n",
    "data_MR = data_MR.astype(str)"
   ]
  },
  {
   "cell_type": "code",
   "execution_count": 4,
   "metadata": {
    "collapsed": false
   },
   "outputs": [
    {
     "name": "stdout",
     "output_type": "stream",
     "text": [
      "(1343971, 2)\n"
     ]
    },
    {
     "data": {
      "text/html": [
       "<div>\n",
       "<table border=\"1\" class=\"dataframe\">\n",
       "  <thead>\n",
       "    <tr style=\"text-align: right;\">\n",
       "      <th></th>\n",
       "      <th>text</th>\n",
       "    </tr>\n",
       "    <tr>\n",
       "      <th>label</th>\n",
       "      <th></th>\n",
       "    </tr>\n",
       "  </thead>\n",
       "  <tbody>\n",
       "    <tr>\n",
       "      <th>0</th>\n",
       "      <td>185410</td>\n",
       "    </tr>\n",
       "    <tr>\n",
       "      <th>1</th>\n",
       "      <td>1158561</td>\n",
       "    </tr>\n",
       "  </tbody>\n",
       "</table>\n",
       "</div>"
      ],
      "text/plain": [
       "          text\n",
       "label         \n",
       "0       185410\n",
       "1      1158561"
      ]
     },
     "execution_count": 4,
     "metadata": {},
     "output_type": "execute_result"
    }
   ],
   "source": [
    "print(train.shape)\n",
    "train.groupby('label').count()"
   ]
  },
  {
   "cell_type": "code",
   "execution_count": 5,
   "metadata": {
    "collapsed": true
   },
   "outputs": [],
   "source": [
    "import re, nltk\n",
    "from nltk.stem import SnowballStemmer\n",
    "def tokenize(text):\n",
    "    text = re.sub(\"[^a-zA-Z]\", \" \", text)\n",
    "    word_list = nltk.word_tokenize(text)\n",
    "    stemmer = SnowballStemmer(\"english\")\n",
    "    stems = [stemmer.stem(word) for word in word_list]\n",
    "    return stems"
   ]
  },
  {
   "cell_type": "code",
   "execution_count": null,
   "metadata": {
    "collapsed": true
   },
   "outputs": [],
   "source": [
    "%%time\n",
    "\n",
    "from sklearn.feature_extraction.text import HashingVectorizer\n",
    "\n",
    "vectorizer = HashingVectorizer(tokenizer=tokenize, ngram_range=(1, 3),\n",
    "                              analyzer = 'word', binary = True, stop_words = 'english')\n",
    "\n",
    "data_features = vectorizer.fit_transform(train['text'])\n",
    "\n",
    "from sklearn.model_selection import train_test_split\n",
    "\n",
    "X_train, X_test, y_train, y_test  = train_test_split(\n",
    "        train.text, \n",
    "        train.label,\n",
    "        test_size=0.2, \n",
    "        random_state=42)\n",
    "\n",
    "\n",
    "from sklearn.feature_extraction.text import TfidfTransformer\n",
    "from sklearn.linear_model import LogisticRegression\n",
    "from sklearn.pipeline import Pipeline\n",
    "\n",
    "pipeline = Pipeline([('vectorizer', HashingVectorizer(tokenizer=tokenize, ngram_range=(1, 3),\n",
    "                              analyzer = 'word', binary = True, stop_words = 'english')), \n",
    "                     ('tfidf', TfidfTransformer()),\n",
    "                     ('classifier', LogisticRegression(C = 100))])\n",
    "model = pipeline.fit(X=X_train, y=y_train)\n",
    "\n",
    "from sklearn.metrics import accuracy_score\n",
    "from sklearn.metrics import classification_report\n",
    "\n",
    "y_pred = model.predict(X_test)\n",
    "\n",
    "print (\"Validation Accuracy Amazon :\", accuracy_score(y_test, y_pred))\n",
    "print(classification_report(y_test, y_pred))\n",
    "\n",
    "X_test_MR, y_test_MR = (data_MR.text, data_MR.label)\n",
    "y_pred_MR = model.predict(X_test_MR)\n",
    "\n",
    "print (\"Test Accuracy MR :\", accuracy_score(y_test_MR, y_pred_MR))\n",
    "print(classification_report(y_test_MR, y_pred_MR))\n",
    "\n",
    "X_test_amazon, y_test_amazon = (data_Amazon.text, data_Amazon.label)\n",
    "y_pred_amazon = model.predict(X_test_amazon)\n",
    "\n",
    "print (\"Test Accuracy Amazon :\", accuracy_score(y_test_amazon, y_pred_amazon))\n",
    "print(classification_report(y_test_amazon, y_pred_amazon))"
   ]
  }
 ],
 "metadata": {
  "kernelspec": {
   "display_name": "Python 3",
   "language": "python",
   "name": "python3"
  },
  "language_info": {
   "codemirror_mode": {
    "name": "ipython",
    "version": 3
   },
   "file_extension": ".py",
   "mimetype": "text/x-python",
   "name": "python",
   "nbconvert_exporter": "python",
   "pygments_lexer": "ipython3",
   "version": "3.6.0"
  }
 },
 "nbformat": 4,
 "nbformat_minor": 2
}
