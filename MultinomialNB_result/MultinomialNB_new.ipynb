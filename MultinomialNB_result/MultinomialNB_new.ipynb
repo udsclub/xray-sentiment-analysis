{
 "metadata": {
  "kernelspec": {
   "display_name": "Python 3",
   "language": "python",
   "name": "python3"
  },
  "language_info": {
   "codemirror_mode": {
    "name": "ipython",
    "version": 3
   },
   "file_extension": ".py",
   "mimetype": "text/x-python",
   "name": "python",
   "nbconvert_exporter": "python",
   "pygments_lexer": "ipython3",
   "version": "3.6.0"
  },
  "name": "",
  "signature": "sha256:6e6d2a484ee3df1475ab302ec83eef6cc2cc2b0c65bbe0e7f68563dbdba97288"
 },
 "nbformat": 3,
 "nbformat_minor": 0,
 "worksheets": [
  {
   "cells": [
    {
     "cell_type": "code",
     "collapsed": true,
     "input": [
      "import pandas as pd\n",
      "import re\n",
      "from sklearn.utils import shuffle\n",
      "from sklearn.feature_extraction.text import CountVectorizer\n",
      "# from sklearn.feature_extraction.text import TfidfTransformer\n",
      "from sklearn.model_selection import train_test_split\n",
      "from sklearn.naive_bayes import MultinomialNB\n",
      "from sklearn.externals import joblib\n",
      "from nltk.corpus import stopwords\n",
      "import nltk\n",
      "# from nltk.stem.porter import PorterStemmer"
     ],
     "language": "python",
     "metadata": {},
     "outputs": [],
     "prompt_number": 236
    },
    {
     "cell_type": "code",
     "collapsed": false,
     "input": [
      "df = pd.DataFrame()\n",
      "df_rt = pd.read_csv(\"reviews_rt_all.csv\", sep=\"|\")\n",
      "df_imdb = pd.read_csv(\"imdb_small.csv\", sep=\"|\")\n",
      "df = pd.concat([df_rt, df_imdb], ignore_index=True, copy=False)\n",
      "df = shuffle(df)"
     ],
     "language": "python",
     "metadata": {},
     "outputs": [],
     "prompt_number": 237
    },
    {
     "cell_type": "code",
     "collapsed": false,
     "input": [
      "print(df.shape)\n"
     ],
     "language": "python",
     "metadata": {},
     "outputs": [
      {
       "output_type": "stream",
       "stream": "stdout",
       "text": [
        "(152610, 2)\n"
       ]
      }
     ],
     "prompt_number": 238
    },
    {
     "cell_type": "code",
     "collapsed": false,
     "input": [
      "df.head()"
     ],
     "language": "python",
     "metadata": {},
     "outputs": [
      {
       "html": [
        "<div style=\"max-width:1500px;overflow:auto;\">\n",
        "<table border=\"1\" class=\"dataframe\">\n",
        "  <thead>\n",
        "    <tr style=\"text-align: right;\">\n",
        "      <th></th>\n",
        "      <th>label</th>\n",
        "      <th>text</th>\n",
        "    </tr>\n",
        "  </thead>\n",
        "  <tbody>\n",
        "    <tr>\n",
        "      <th>4079</th>\n",
        "      <td>1</td>\n",
        "      <td>Director Shelton is a master at locker room dr...</td>\n",
        "    </tr>\n",
        "    <tr>\n",
        "      <th>92922</th>\n",
        "      <td>1</td>\n",
        "      <td>An intriguing mix of French New Wave and Holly...</td>\n",
        "    </tr>\n",
        "    <tr>\n",
        "      <th>99502</th>\n",
        "      <td>1</td>\n",
        "      <td>Aaron Woolf's we-are-what-we-eat documentary K...</td>\n",
        "    </tr>\n",
        "    <tr>\n",
        "      <th>131781</th>\n",
        "      <td>0</td>\n",
        "      <td>Having the In-Laws over for the weekend? Then ...</td>\n",
        "    </tr>\n",
        "    <tr>\n",
        "      <th>115906</th>\n",
        "      <td>1</td>\n",
        "      <td>KRAMER VS KRAMER won five Oscars, including Be...</td>\n",
        "    </tr>\n",
        "  </tbody>\n",
        "</table>\n",
        "</div>"
       ],
       "metadata": {},
       "output_type": "pyout",
       "prompt_number": 239,
       "text": [
        "        label                                               text\n",
        "4079        1  Director Shelton is a master at locker room dr...\n",
        "92922       1  An intriguing mix of French New Wave and Holly...\n",
        "99502       1  Aaron Woolf's we-are-what-we-eat documentary K...\n",
        "131781      0  Having the In-Laws over for the weekend? Then ...\n",
        "115906      1  KRAMER VS KRAMER won five Oscars, including Be..."
       ]
      }
     ],
     "prompt_number": 239
    },
    {
     "cell_type": "code",
     "collapsed": false,
     "input": [
      "# df.groupby(\"label\").count()"
     ],
     "language": "python",
     "metadata": {},
     "outputs": [],
     "prompt_number": 240
    },
    {
     "cell_type": "code",
     "collapsed": false,
     "input": [
      "def preprocessor(text):\n",
      "    text = re.sub('<[^>]*>', '', text)\n",
      "    emoticons = re.findall('(?::|;|=)(?:-)?(?:\\)|\\(|D|P)', text)\n",
      "    text = re.sub('[\\W]+', ' ', text.lower()) + ''.join(emoticons).replace('-', '')\n",
      "    return text\n",
      "\n",
      "\n"
     ],
     "language": "python",
     "metadata": {},
     "outputs": [],
     "prompt_number": 241
    },
    {
     "cell_type": "code",
     "collapsed": true,
     "input": [
      "# apply preprocessor to our dataset\n",
      "df['text'] = df['text'].apply(preprocessor)"
     ],
     "language": "python",
     "metadata": {},
     "outputs": [],
     "prompt_number": 242
    },
    {
     "cell_type": "code",
     "collapsed": false,
     "input": [
      "df.head()"
     ],
     "language": "python",
     "metadata": {},
     "outputs": [
      {
       "html": [
        "<div style=\"max-width:1500px;overflow:auto;\">\n",
        "<table border=\"1\" class=\"dataframe\">\n",
        "  <thead>\n",
        "    <tr style=\"text-align: right;\">\n",
        "      <th></th>\n",
        "      <th>label</th>\n",
        "      <th>text</th>\n",
        "    </tr>\n",
        "  </thead>\n",
        "  <tbody>\n",
        "    <tr>\n",
        "      <th>4079</th>\n",
        "      <td>1</td>\n",
        "      <td>director shelton is a master at locker room dr...</td>\n",
        "    </tr>\n",
        "    <tr>\n",
        "      <th>92922</th>\n",
        "      <td>1</td>\n",
        "      <td>an intriguing mix of french new wave and holly...</td>\n",
        "    </tr>\n",
        "    <tr>\n",
        "      <th>99502</th>\n",
        "      <td>1</td>\n",
        "      <td>aaron woolf s we are what we eat documentary k...</td>\n",
        "    </tr>\n",
        "    <tr>\n",
        "      <th>131781</th>\n",
        "      <td>0</td>\n",
        "      <td>having the in laws over for the weekend then t...</td>\n",
        "    </tr>\n",
        "    <tr>\n",
        "      <th>115906</th>\n",
        "      <td>1</td>\n",
        "      <td>kramer vs kramer won five oscars including bes...</td>\n",
        "    </tr>\n",
        "  </tbody>\n",
        "</table>\n",
        "</div>"
       ],
       "metadata": {},
       "output_type": "pyout",
       "prompt_number": 243,
       "text": [
        "        label                                               text\n",
        "4079        1  director shelton is a master at locker room dr...\n",
        "92922       1  an intriguing mix of french new wave and holly...\n",
        "99502       1  aaron woolf s we are what we eat documentary k...\n",
        "131781      0  having the in laws over for the weekend then t...\n",
        "115906      1  kramer vs kramer won five oscars including bes..."
       ]
      }
     ],
     "prompt_number": 243
    },
    {
     "cell_type": "code",
     "collapsed": false,
     "input": [
      "STOPWORDS = stopwords.words('english')"
     ],
     "language": "python",
     "metadata": {},
     "outputs": [],
     "prompt_number": 244
    },
    {
     "cell_type": "code",
     "collapsed": false,
     "input": [
      "count_vector = CountVectorizer()\n",
      "counts = count_vector.fit(df.text)"
     ],
     "language": "python",
     "metadata": {},
     "outputs": [],
     "prompt_number": 245
    },
    {
     "cell_type": "code",
     "collapsed": false,
     "input": [
      "X_train, X_test, y_train, y_test = train_test_split(\n",
      "        df.text, \n",
      "        df.label, \n",
      "        test_size=0.2, \n",
      "        random_state=42)"
     ],
     "language": "python",
     "metadata": {},
     "outputs": [],
     "prompt_number": 246
    },
    {
     "cell_type": "code",
     "collapsed": true,
     "input": [
      "print(X_train.shape)\n",
      "print(X_test.shape)"
     ],
     "language": "python",
     "metadata": {},
     "outputs": [
      {
       "output_type": "stream",
       "stream": "stdout",
       "text": [
        "(122088,)\n",
        "(30522,)\n"
       ]
      }
     ],
     "prompt_number": 247
    },
    {
     "cell_type": "code",
     "collapsed": false,
     "input": [
      "from sklearn.pipeline import Pipeline\n",
      "pipeline = Pipeline([('vectorizer', CountVectorizer(ngram_range=(1, 2), stop_words=STOPWORDS)), ('classifier', MultinomialNB())])\n"
     ],
     "language": "python",
     "metadata": {},
     "outputs": [],
     "prompt_number": 248
    },
    {
     "cell_type": "code",
     "collapsed": false,
     "input": [
      "model = pipeline.fit(X_train, y_train)"
     ],
     "language": "python",
     "metadata": {},
     "outputs": [],
     "prompt_number": 249
    },
    {
     "cell_type": "code",
     "collapsed": false,
     "input": [
      "model.score(X_train, y_train)"
     ],
     "language": "python",
     "metadata": {},
     "outputs": [
      {
       "metadata": {},
       "output_type": "pyout",
       "prompt_number": 250,
       "text": [
        "0.97233962387785855"
       ]
      }
     ],
     "prompt_number": 250
    },
    {
     "cell_type": "code",
     "collapsed": false,
     "input": [
      "predicted = model.predict(X_test)"
     ],
     "language": "python",
     "metadata": {},
     "outputs": [],
     "prompt_number": 252
    },
    {
     "cell_type": "code",
     "collapsed": false,
     "input": [
      "from sklearn.metrics import accuracy_score\n",
      "from sklearn.metrics import roc_curve\n",
      "from sklearn import metrics\n",
      "print (accuracy_score(y_test, predicted))\n",
      "print(metrics.classification_report(y_test, predicted))"
     ],
     "language": "python",
     "metadata": {},
     "outputs": [
      {
       "output_type": "stream",
       "stream": "stdout",
       "text": [
        "0.810693925693\n",
        "             precision    recall  f1-score   support\n",
        "\n",
        "          0       0.81      0.71      0.76     12556\n",
        "          1       0.81      0.88      0.85     17966\n",
        "\n",
        "avg / total       0.81      0.81      0.81     30522\n"
       ]
      },
      {
       "output_type": "stream",
       "stream": "stdout",
       "text": [
        "\n"
       ]
      }
     ],
     "prompt_number": 253
    },
    {
     "cell_type": "code",
     "collapsed": false,
     "input": [
      "joblib.dump(pipeline, 'output.pkl')"
     ],
     "language": "python",
     "metadata": {},
     "outputs": []
    },
    {
     "cell_type": "code",
     "collapsed": false,
     "input": [],
     "language": "python",
     "metadata": {},
     "outputs": []
    }
   ],
   "metadata": {}
  }
 ]
}